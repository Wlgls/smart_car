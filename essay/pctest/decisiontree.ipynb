{
 "cells": [
  {
   "cell_type": "code",
   "execution_count": 1,
   "metadata": {},
   "outputs": [],
   "source": [
    "from sklearn import tree\n",
    "import numpy as np\n",
    "import pandas as pd\n",
    "import graphviz"
   ]
  },
  {
   "cell_type": "code",
   "execution_count": 2,
   "metadata": {},
   "outputs": [],
   "source": [
    "data = pd.read_csv"
   ]
  },
  {
   "cell_type": "code",
   "execution_count": 53,
   "metadata": {},
   "outputs": [],
   "source": [
    "data = pd.read_csv('data.csv')"
   ]
  },
  {
   "cell_type": "code",
   "execution_count": 54,
   "metadata": {},
   "outputs": [],
   "source": [
    "dicta = {'f':1, 'tr':2,'tl':3, 'b':4}"
   ]
  },
  {
   "cell_type": "code",
   "execution_count": 55,
   "metadata": {},
   "outputs": [
    {
     "data": {
      "text/html": [
       "<div>\n",
       "<style scoped>\n",
       "    .dataframe tbody tr th:only-of-type {\n",
       "        vertical-align: middle;\n",
       "    }\n",
       "\n",
       "    .dataframe tbody tr th {\n",
       "        vertical-align: top;\n",
       "    }\n",
       "\n",
       "    .dataframe thead th {\n",
       "        text-align: right;\n",
       "    }\n",
       "</style>\n",
       "<table border=\"1\" class=\"dataframe\">\n",
       "  <thead>\n",
       "    <tr style=\"text-align: right;\">\n",
       "      <th></th>\n",
       "      <th>left</th>\n",
       "      <th>right</th>\n",
       "      <th>dist</th>\n",
       "      <th>cont</th>\n",
       "    </tr>\n",
       "  </thead>\n",
       "  <tbody>\n",
       "    <tr>\n",
       "      <th>0</th>\n",
       "      <td>False</td>\n",
       "      <td>False</td>\n",
       "      <td>24.01</td>\n",
       "      <td>f</td>\n",
       "    </tr>\n",
       "    <tr>\n",
       "      <th>1</th>\n",
       "      <td>False</td>\n",
       "      <td>False</td>\n",
       "      <td>20.89</td>\n",
       "      <td>f</td>\n",
       "    </tr>\n",
       "    <tr>\n",
       "      <th>2</th>\n",
       "      <td>False</td>\n",
       "      <td>False</td>\n",
       "      <td>19.93</td>\n",
       "      <td>tr</td>\n",
       "    </tr>\n",
       "    <tr>\n",
       "      <th>3</th>\n",
       "      <td>False</td>\n",
       "      <td>False</td>\n",
       "      <td>19.93</td>\n",
       "      <td>tr</td>\n",
       "    </tr>\n",
       "    <tr>\n",
       "      <th>4</th>\n",
       "      <td>False</td>\n",
       "      <td>False</td>\n",
       "      <td>79.06</td>\n",
       "      <td>tr</td>\n",
       "    </tr>\n",
       "    <tr>\n",
       "      <th>...</th>\n",
       "      <td>...</td>\n",
       "      <td>...</td>\n",
       "      <td>...</td>\n",
       "      <td>...</td>\n",
       "    </tr>\n",
       "    <tr>\n",
       "      <th>750</th>\n",
       "      <td>False</td>\n",
       "      <td>False</td>\n",
       "      <td>49.27</td>\n",
       "      <td>f</td>\n",
       "    </tr>\n",
       "    <tr>\n",
       "      <th>751</th>\n",
       "      <td>False</td>\n",
       "      <td>False</td>\n",
       "      <td>45.30</td>\n",
       "      <td>f</td>\n",
       "    </tr>\n",
       "    <tr>\n",
       "      <th>752</th>\n",
       "      <td>False</td>\n",
       "      <td>False</td>\n",
       "      <td>45.94</td>\n",
       "      <td>f</td>\n",
       "    </tr>\n",
       "    <tr>\n",
       "      <th>753</th>\n",
       "      <td>False</td>\n",
       "      <td>False</td>\n",
       "      <td>42.52</td>\n",
       "      <td>f</td>\n",
       "    </tr>\n",
       "    <tr>\n",
       "      <th>754</th>\n",
       "      <td>False</td>\n",
       "      <td>False</td>\n",
       "      <td>40.81</td>\n",
       "      <td>f</td>\n",
       "    </tr>\n",
       "  </tbody>\n",
       "</table>\n",
       "<p>755 rows × 4 columns</p>\n",
       "</div>"
      ],
      "text/plain": [
       "      left  right   dist cont\n",
       "0    False  False  24.01    f\n",
       "1    False  False  20.89    f\n",
       "2    False  False  19.93   tr\n",
       "3    False  False  19.93   tr\n",
       "4    False  False  79.06   tr\n",
       "..     ...    ...    ...  ...\n",
       "750  False  False  49.27    f\n",
       "751  False  False  45.30    f\n",
       "752  False  False  45.94    f\n",
       "753  False  False  42.52    f\n",
       "754  False  False  40.81    f\n",
       "\n",
       "[755 rows x 4 columns]"
      ]
     },
     "execution_count": 55,
     "metadata": {},
     "output_type": "execute_result"
    }
   ],
   "source": [
    "data"
   ]
  },
  {
   "cell_type": "code",
   "execution_count": 6,
   "metadata": {},
   "outputs": [],
   "source": [
    "data['cont'] = data.cont.map(lambda x : dicta[x] if x else dicta[x])"
   ]
  },
  {
   "cell_type": "code",
   "execution_count": 56,
   "metadata": {},
   "outputs": [],
   "source": [
    "data['dist'] = data.dist.map(lambda x:None if x>200 else x)"
   ]
  },
  {
   "cell_type": "code",
   "execution_count": 8,
   "metadata": {},
   "outputs": [],
   "source": [
    "data['left']  =data.left.map(lambda x: 1 if x else 0)\n",
    "data['right'] = data.right.map(lambda x: 1 if x else 0)"
   ]
  },
  {
   "cell_type": "code",
   "execution_count": 57,
   "metadata": {},
   "outputs": [],
   "source": [
    "data = data.dropna()"
   ]
  },
  {
   "cell_type": "code",
   "execution_count": 58,
   "metadata": {},
   "outputs": [
    {
     "data": {
      "text/html": [
       "<div>\n",
       "<style scoped>\n",
       "    .dataframe tbody tr th:only-of-type {\n",
       "        vertical-align: middle;\n",
       "    }\n",
       "\n",
       "    .dataframe tbody tr th {\n",
       "        vertical-align: top;\n",
       "    }\n",
       "\n",
       "    .dataframe thead th {\n",
       "        text-align: right;\n",
       "    }\n",
       "</style>\n",
       "<table border=\"1\" class=\"dataframe\">\n",
       "  <thead>\n",
       "    <tr style=\"text-align: right;\">\n",
       "      <th></th>\n",
       "      <th>left</th>\n",
       "      <th>right</th>\n",
       "      <th>dist</th>\n",
       "      <th>cont</th>\n",
       "    </tr>\n",
       "  </thead>\n",
       "  <tbody>\n",
       "    <tr>\n",
       "      <th>0</th>\n",
       "      <td>False</td>\n",
       "      <td>False</td>\n",
       "      <td>24.01</td>\n",
       "      <td>f</td>\n",
       "    </tr>\n",
       "    <tr>\n",
       "      <th>1</th>\n",
       "      <td>False</td>\n",
       "      <td>False</td>\n",
       "      <td>20.89</td>\n",
       "      <td>f</td>\n",
       "    </tr>\n",
       "    <tr>\n",
       "      <th>2</th>\n",
       "      <td>False</td>\n",
       "      <td>False</td>\n",
       "      <td>19.93</td>\n",
       "      <td>tr</td>\n",
       "    </tr>\n",
       "    <tr>\n",
       "      <th>3</th>\n",
       "      <td>False</td>\n",
       "      <td>False</td>\n",
       "      <td>19.93</td>\n",
       "      <td>tr</td>\n",
       "    </tr>\n",
       "    <tr>\n",
       "      <th>4</th>\n",
       "      <td>False</td>\n",
       "      <td>False</td>\n",
       "      <td>79.06</td>\n",
       "      <td>tr</td>\n",
       "    </tr>\n",
       "    <tr>\n",
       "      <th>...</th>\n",
       "      <td>...</td>\n",
       "      <td>...</td>\n",
       "      <td>...</td>\n",
       "      <td>...</td>\n",
       "    </tr>\n",
       "    <tr>\n",
       "      <th>750</th>\n",
       "      <td>False</td>\n",
       "      <td>False</td>\n",
       "      <td>49.27</td>\n",
       "      <td>f</td>\n",
       "    </tr>\n",
       "    <tr>\n",
       "      <th>751</th>\n",
       "      <td>False</td>\n",
       "      <td>False</td>\n",
       "      <td>45.30</td>\n",
       "      <td>f</td>\n",
       "    </tr>\n",
       "    <tr>\n",
       "      <th>752</th>\n",
       "      <td>False</td>\n",
       "      <td>False</td>\n",
       "      <td>45.94</td>\n",
       "      <td>f</td>\n",
       "    </tr>\n",
       "    <tr>\n",
       "      <th>753</th>\n",
       "      <td>False</td>\n",
       "      <td>False</td>\n",
       "      <td>42.52</td>\n",
       "      <td>f</td>\n",
       "    </tr>\n",
       "    <tr>\n",
       "      <th>754</th>\n",
       "      <td>False</td>\n",
       "      <td>False</td>\n",
       "      <td>40.81</td>\n",
       "      <td>f</td>\n",
       "    </tr>\n",
       "  </tbody>\n",
       "</table>\n",
       "<p>716 rows × 4 columns</p>\n",
       "</div>"
      ],
      "text/plain": [
       "      left  right   dist cont\n",
       "0    False  False  24.01    f\n",
       "1    False  False  20.89    f\n",
       "2    False  False  19.93   tr\n",
       "3    False  False  19.93   tr\n",
       "4    False  False  79.06   tr\n",
       "..     ...    ...    ...  ...\n",
       "750  False  False  49.27    f\n",
       "751  False  False  45.30    f\n",
       "752  False  False  45.94    f\n",
       "753  False  False  42.52    f\n",
       "754  False  False  40.81    f\n",
       "\n",
       "[716 rows x 4 columns]"
      ]
     },
     "execution_count": 58,
     "metadata": {},
     "output_type": "execute_result"
    }
   ],
   "source": [
    "data"
   ]
  },
  {
   "cell_type": "code",
   "execution_count": 59,
   "metadata": {},
   "outputs": [],
   "source": [
    "aa = data.values"
   ]
  },
  {
   "cell_type": "code",
   "execution_count": 60,
   "metadata": {},
   "outputs": [
    {
     "data": {
      "text/plain": [
       "array([[False, False, 24.01, 'f'],\n",
       "       [False, False, 20.89, 'f'],\n",
       "       [False, False, 19.93, 'tr'],\n",
       "       ...,\n",
       "       [False, False, 45.94, 'f'],\n",
       "       [False, False, 42.52, 'f'],\n",
       "       [False, False, 40.81, 'f']], dtype=object)"
      ]
     },
     "execution_count": 60,
     "metadata": {},
     "output_type": "execute_result"
    }
   ],
   "source": [
    "aa"
   ]
  },
  {
   "cell_type": "code",
   "execution_count": 61,
   "metadata": {},
   "outputs": [],
   "source": [
    "np.random.shuffle(aa)"
   ]
  },
  {
   "cell_type": "code",
   "execution_count": 62,
   "metadata": {},
   "outputs": [
    {
     "data": {
      "text/plain": [
       "array([[True, False, 33.88, 'tr'],\n",
       "       [True, False, 145.66, 'tr'],\n",
       "       [True, False, 134.38, 'tr'],\n",
       "       ...,\n",
       "       [True, False, 28.06, 'tr'],\n",
       "       [False, False, 88.39, 'f'],\n",
       "       [True, False, 135.69, 'tr']], dtype=object)"
      ]
     },
     "execution_count": 62,
     "metadata": {},
     "output_type": "execute_result"
    }
   ],
   "source": [
    "aa"
   ]
  },
  {
   "cell_type": "code",
   "execution_count": 63,
   "metadata": {},
   "outputs": [],
   "source": [
    "y = aa[:, -1]\n",
    "x = aa[:, :-1]"
   ]
  },
  {
   "cell_type": "code",
   "execution_count": 64,
   "metadata": {},
   "outputs": [
    {
     "data": {
      "text/plain": [
       "array(['tr', 'tr', 'tr', 'tr', 'f', 'tr', 'tr', 'tl', 'tr', 'f', 'tr',\n",
       "       'tr', 'tr', 'f', 'f', 'f', 'tr', 'f', 'tr', 'tr', 'f', 'f', 'tr',\n",
       "       'tr', 'tr', 'f', 'tr', 'tr', 'tr', 'tr', 'f', 'tr', 'f', 'tr',\n",
       "       'tr', 'tr', 'f', 'tr', 'f', 'tr', 'f', 'tr', 'tr', 'tr', 'tr',\n",
       "       'tr', 'tr', 'f', 'f', 'tr', 'tr', 'f', 'f', 'tr', 'tr', 'tl', 'tr',\n",
       "       'f', 'tr', 'f', 'f', 'tr', 'f', 'tr', 'f', 'tr', 'f', 'f', 'tr',\n",
       "       'tr', 'tr', 'tr', 'tr', 'f', 'f', 'tr', 'f', 'f', 'tr', 'b', 'tr',\n",
       "       'tr', 'tr', 'tr', 'tr', 'tr', 'tr', 'tr', 'tr', 'tr', 'tr', 'f',\n",
       "       'tr', 'tr', 'tr', 'f', 'f', 'tr', 'tr', 'tr', 'tr', 'f', 'f', 'f',\n",
       "       'f', 'tr', 'tr', 'tr', 'tr', 'tr', 'f', 'tr', 'tr', 'tr', 'tr',\n",
       "       'f', 'f', 'tr', 'f', 'f', 'f', 'tr', 'tr', 'tr', 'tr', 'tr', 'f',\n",
       "       'f', 'f', 'tr', 'tr', 'tr', 'tr', 'tr', 'f', 'f', 'f', 'tr', 'f',\n",
       "       'f', 'tr', 'tr', 'tr', 'tl', 'tr', 'tr', 'tr', 'tr', 'tr', 'tr',\n",
       "       'tr', 'tr', 'tr', 'tr', 'tr', 'tr', 'f', 'f', 'tr', 'f', 'tr',\n",
       "       'tr', 'tr', 'tr', 'tr', 'tr', 'f', 'tr', 'tr', 'tr', 'tr', 'f',\n",
       "       'f', 'tr', 'tr', 'f', 'tr', 'tr', 'tr', 'tr', 'f', 'tr', 'tr',\n",
       "       'tr', 'tr', 'tr', 'tr', 'f', 'f', 'f', 'f', 'f', 'tr', 'tr', 'f',\n",
       "       'f', 'tr', 'tr', 'tr', 'tr', 'tr', 'f', 'tr', 'f', 'tr', 'f', 'tr',\n",
       "       'f', 'tr', 'f', 'tr', 'tr', 'f', 'tr', 'tr', 'tr', 'f', 'tr', 'tr',\n",
       "       'tr', 'tr', 'tr', 'f', 'tr', 'tr', 'f', 'f', 'tr', 'tr', 'f', 'tr',\n",
       "       'f', 'f', 'tr', 'tr', 'f', 'f', 'tr', 'tr', 'f', 'tr', 'f', 'tr',\n",
       "       'tr', 'f', 'tr', 'tr', 'f', 'f', 'tr', 'f', 'tr', 'f', 'tr', 'tr',\n",
       "       'tr', 'f', 'tr', 'tr', 'tr', 'f', 'tr', 'tr', 'f', 'tr', 'tr',\n",
       "       'tr', 'tr', 'tr', 'tr', 'f', 'tr', 'tr', 'tr', 'tr', 'tr', 'f',\n",
       "       'tr', 'tr', 'tr', 'f', 'tr', 'tr', 'tr', 'tr', 'f', 'f', 'f', 'f',\n",
       "       'tr', 'tr', 'f', 'f', 'tr', 'f', 'f', 'tr', 'f', 'tr', 'tr', 'tr',\n",
       "       'tr', 'tr', 'f', 'f', 'tr', 'tr', 'f', 'tr', 'tr', 'tr', 'tr', 'f',\n",
       "       'f', 'tr', 'tr', 'tr', 'tr', 'f', 'tr', 'f', 'tr', 'tr', 'tr',\n",
       "       'tr', 'tr', 'f', 'tr', 'tr', 'f', 'tl', 'f', 'f', 'tr', 'f', 'tr',\n",
       "       'tr', 'tr', 'tr', 'f', 'tl', 'tr', 'tr', 'tr', 'f', 'tr', 'f', 'f',\n",
       "       'tr', 'f', 'tr', 'tr', 'tr', 'tr', 'tr', 'tr', 'tr', 'f', 'tr',\n",
       "       'tr', 'tr', 'f', 'f', 'f', 'tr', 'tr', 'tr', 'tl', 'tr', 'f', 'tr',\n",
       "       'tr', 'f', 'tr', 'tr', 'tr', 'f', 'tr', 'tr', 'tr', 'tr', 'tr',\n",
       "       'tr', 'tr', 'f', 'tr', 'f', 'tr', 'tr', 'tr', 'tr', 'tr', 'tr',\n",
       "       'f', 'tr', 'f', 'f', 'f', 'tr', 'f', 'tr', 'tr', 'tr', 'f', 'f',\n",
       "       'tr', 'f', 'f', 'f', 'tl', 'tr', 'f', 'f', 'tl', 'f', 'tr', 'tr',\n",
       "       'tr', 'tr', 'f', 'f', 'f', 'f', 'tr', 'tr', 'tr', 'f', 'tr', 'tr',\n",
       "       'b', 'f', 'tr', 'tr', 'tr', 'f', 'tr', 'tr', 'tr', 'tr', 'tr',\n",
       "       'tr', 'tr', 'f', 'tr', 'f', 'tr', 'tr', 'tr', 'tr', 'f', 'f', 'tr',\n",
       "       'f', 'f', 'tr', 'tr', 'f', 'f', 'tl', 'f', 'f', 'f', 'tr', 'tr',\n",
       "       'f', 'tr', 'tr', 'f', 'f', 'f', 'tr', 'tr', 'tr', 'f', 'f', 'tr',\n",
       "       'tr', 'tr', 'f', 'tl', 'f', 'f', 'tl', 'tr', 'tr', 'f', 'tr', 'tr',\n",
       "       'tr', 'tr', 'f', 'f', 'tr', 'tr', 'tr', 'f', 'tr', 'tr', 'f', 'f',\n",
       "       'tr', 'f', 'tr', 'f', 'f', 'f', 'tr', 'f', 'tr', 'tr', 'tr', 'f',\n",
       "       'tr', 'tl', 'tr', 'f', 'tr', 'tr', 'tr', 'f', 'tr', 'tr', 'f',\n",
       "       'tr', 'f', 'f', 'f', 'f', 'tr', 'tr', 'tr', 'f', 'tr', 'tr', 'tr',\n",
       "       'f', 'tr', 'f', 'tr', 'tr', 'f', 'f', 'tl', 'tl', 'tr', 'f', 'tr',\n",
       "       'tr', 'tr', 'tr', 'tr', 'tr', 'tr', 'f', 'tr', 'tr', 'tr', 'f',\n",
       "       'f', 'f', 'tr', 'tr', 'tr', 'tr', 'tr', 'f', 'f', 'tr', 'tr', 'f',\n",
       "       'tr', 'f', 'tr', 'tr', 'f', 'tr', 'tr', 'tr', 'tr', 'tr', 'tr',\n",
       "       'f', 'tr', 'f', 'tr', 'f', 'f', 'tr', 'tr', 'f', 'tr', 'tr', 'tr',\n",
       "       'tr', 'f', 'f', 'f', 'tr', 'tr', 'tr', 'f', 'f', 'tr', 'f', 'tr',\n",
       "       'tr', 'f', 'tr', 'tr', 'tr', 'tl', 'f', 'tr', 'tr', 'f', 'f', 'f',\n",
       "       'tr', 'tr', 'f', 'tr', 'f', 'tr', 'tr', 'f', 'f', 'f', 'tr', 'tr',\n",
       "       'f', 'tr', 'tr', 'tr', 'tr', 'tr', 'f', 'tl', 'tr', 'tr', 'tr',\n",
       "       'tr', 'f', 'tr', 'tr', 'tr', 'tr', 'f', 'f', 'tr', 'f', 'f', 'tr',\n",
       "       'tl', 'f', 'tr', 'tl', 'tr', 'tr', 'tr', 'tr', 'f', 'tr', 'tr',\n",
       "       'f', 'tr', 'tr', 'tr', 'tr', 'tr', 'f', 'f', 'tr', 'f', 'tr', 'tr',\n",
       "       'tl', 'tr', 'tr', 'tr', 'tr', 'tr', 'f', 'f', 'tr', 'tr', 'tr',\n",
       "       'tr', 'tr', 'tr', 'tr', 'tr', 'tr', 'f', 'tr', 'tr', 'tr', 'tr',\n",
       "       'tr', 'tr', 'tr', 'f', 'tr', 'f', 'f', 'tr', 'tr', 'f', 'tl', 'tr',\n",
       "       'tr', 'f', 'f', 'tr', 'tr', 'f', 'tr'], dtype=object)"
      ]
     },
     "execution_count": 64,
     "metadata": {},
     "output_type": "execute_result"
    }
   ],
   "source": [
    "y"
   ]
  },
  {
   "cell_type": "code",
   "execution_count": 65,
   "metadata": {},
   "outputs": [
    {
     "data": {
      "text/plain": [
       "dtype('O')"
      ]
     },
     "execution_count": 65,
     "metadata": {},
     "output_type": "execute_result"
    }
   ],
   "source": [
    "y.dtype"
   ]
  },
  {
   "cell_type": "code",
   "execution_count": 66,
   "metadata": {},
   "outputs": [
    {
     "data": {
      "text/plain": [
       "(array([[True, False, 33.88],\n",
       "        [True, False, 145.66],\n",
       "        [True, False, 134.38],\n",
       "        ...,\n",
       "        [True, False, 28.06],\n",
       "        [False, False, 88.39],\n",
       "        [True, False, 135.69]], dtype=object),\n",
       " array(['tr', 'tr', 'tr', 'tr', 'f', 'tr', 'tr', 'tl', 'tr', 'f', 'tr',\n",
       "        'tr', 'tr', 'f', 'f', 'f', 'tr', 'f', 'tr', 'tr', 'f', 'f', 'tr',\n",
       "        'tr', 'tr', 'f', 'tr', 'tr', 'tr', 'tr', 'f', 'tr', 'f', 'tr',\n",
       "        'tr', 'tr', 'f', 'tr', 'f', 'tr', 'f', 'tr', 'tr', 'tr', 'tr',\n",
       "        'tr', 'tr', 'f', 'f', 'tr', 'tr', 'f', 'f', 'tr', 'tr', 'tl', 'tr',\n",
       "        'f', 'tr', 'f', 'f', 'tr', 'f', 'tr', 'f', 'tr', 'f', 'f', 'tr',\n",
       "        'tr', 'tr', 'tr', 'tr', 'f', 'f', 'tr', 'f', 'f', 'tr', 'b', 'tr',\n",
       "        'tr', 'tr', 'tr', 'tr', 'tr', 'tr', 'tr', 'tr', 'tr', 'tr', 'f',\n",
       "        'tr', 'tr', 'tr', 'f', 'f', 'tr', 'tr', 'tr', 'tr', 'f', 'f', 'f',\n",
       "        'f', 'tr', 'tr', 'tr', 'tr', 'tr', 'f', 'tr', 'tr', 'tr', 'tr',\n",
       "        'f', 'f', 'tr', 'f', 'f', 'f', 'tr', 'tr', 'tr', 'tr', 'tr', 'f',\n",
       "        'f', 'f', 'tr', 'tr', 'tr', 'tr', 'tr', 'f', 'f', 'f', 'tr', 'f',\n",
       "        'f', 'tr', 'tr', 'tr', 'tl', 'tr', 'tr', 'tr', 'tr', 'tr', 'tr',\n",
       "        'tr', 'tr', 'tr', 'tr', 'tr', 'tr', 'f', 'f', 'tr', 'f', 'tr',\n",
       "        'tr', 'tr', 'tr', 'tr', 'tr', 'f', 'tr', 'tr', 'tr', 'tr', 'f',\n",
       "        'f', 'tr', 'tr', 'f', 'tr', 'tr', 'tr', 'tr', 'f', 'tr', 'tr',\n",
       "        'tr', 'tr', 'tr', 'tr', 'f', 'f', 'f', 'f', 'f', 'tr', 'tr', 'f',\n",
       "        'f', 'tr', 'tr', 'tr', 'tr', 'tr', 'f', 'tr', 'f', 'tr', 'f', 'tr',\n",
       "        'f', 'tr', 'f', 'tr', 'tr', 'f', 'tr', 'tr', 'tr', 'f', 'tr', 'tr',\n",
       "        'tr', 'tr', 'tr', 'f', 'tr', 'tr', 'f', 'f', 'tr', 'tr', 'f', 'tr',\n",
       "        'f', 'f', 'tr', 'tr', 'f', 'f', 'tr', 'tr', 'f', 'tr', 'f', 'tr',\n",
       "        'tr', 'f', 'tr', 'tr', 'f', 'f', 'tr', 'f', 'tr', 'f', 'tr', 'tr',\n",
       "        'tr', 'f', 'tr', 'tr', 'tr', 'f', 'tr', 'tr', 'f', 'tr', 'tr',\n",
       "        'tr', 'tr', 'tr', 'tr', 'f', 'tr', 'tr', 'tr', 'tr', 'tr', 'f',\n",
       "        'tr', 'tr', 'tr', 'f', 'tr', 'tr', 'tr', 'tr', 'f', 'f', 'f', 'f',\n",
       "        'tr', 'tr', 'f', 'f', 'tr', 'f', 'f', 'tr', 'f', 'tr', 'tr', 'tr',\n",
       "        'tr', 'tr', 'f', 'f', 'tr', 'tr', 'f', 'tr', 'tr', 'tr', 'tr', 'f',\n",
       "        'f', 'tr', 'tr', 'tr', 'tr', 'f', 'tr', 'f', 'tr', 'tr', 'tr',\n",
       "        'tr', 'tr', 'f', 'tr', 'tr', 'f', 'tl', 'f', 'f', 'tr', 'f', 'tr',\n",
       "        'tr', 'tr', 'tr', 'f', 'tl', 'tr', 'tr', 'tr', 'f', 'tr', 'f', 'f',\n",
       "        'tr', 'f', 'tr', 'tr', 'tr', 'tr', 'tr', 'tr', 'tr', 'f', 'tr',\n",
       "        'tr', 'tr', 'f', 'f', 'f', 'tr', 'tr', 'tr', 'tl', 'tr', 'f', 'tr',\n",
       "        'tr', 'f', 'tr', 'tr', 'tr', 'f', 'tr', 'tr', 'tr', 'tr', 'tr',\n",
       "        'tr', 'tr', 'f', 'tr', 'f', 'tr', 'tr', 'tr', 'tr', 'tr', 'tr',\n",
       "        'f', 'tr', 'f', 'f', 'f', 'tr', 'f', 'tr', 'tr', 'tr', 'f', 'f',\n",
       "        'tr', 'f', 'f', 'f', 'tl', 'tr', 'f', 'f', 'tl', 'f', 'tr', 'tr',\n",
       "        'tr', 'tr', 'f', 'f', 'f', 'f', 'tr', 'tr', 'tr', 'f', 'tr', 'tr',\n",
       "        'b', 'f', 'tr', 'tr', 'tr', 'f', 'tr', 'tr', 'tr', 'tr', 'tr',\n",
       "        'tr', 'tr', 'f', 'tr', 'f', 'tr', 'tr', 'tr', 'tr', 'f', 'f', 'tr',\n",
       "        'f', 'f', 'tr', 'tr', 'f', 'f', 'tl', 'f', 'f', 'f', 'tr', 'tr',\n",
       "        'f', 'tr', 'tr', 'f', 'f', 'f', 'tr', 'tr', 'tr', 'f', 'f', 'tr',\n",
       "        'tr', 'tr', 'f', 'tl', 'f', 'f', 'tl', 'tr', 'tr', 'f', 'tr', 'tr',\n",
       "        'tr', 'tr', 'f', 'f', 'tr', 'tr', 'tr', 'f', 'tr', 'tr', 'f', 'f',\n",
       "        'tr', 'f', 'tr', 'f', 'f', 'f', 'tr', 'f', 'tr', 'tr', 'tr', 'f',\n",
       "        'tr', 'tl', 'tr', 'f', 'tr', 'tr', 'tr', 'f', 'tr', 'tr', 'f',\n",
       "        'tr', 'f', 'f', 'f', 'f', 'tr', 'tr', 'tr', 'f', 'tr', 'tr', 'tr',\n",
       "        'f', 'tr', 'f', 'tr', 'tr', 'f', 'f', 'tl', 'tl', 'tr', 'f', 'tr',\n",
       "        'tr', 'tr', 'tr', 'tr', 'tr', 'tr', 'f', 'tr', 'tr', 'tr', 'f',\n",
       "        'f', 'f', 'tr', 'tr', 'tr', 'tr', 'tr', 'f', 'f', 'tr', 'tr', 'f',\n",
       "        'tr', 'f', 'tr', 'tr', 'f', 'tr', 'tr', 'tr', 'tr', 'tr', 'tr',\n",
       "        'f', 'tr', 'f', 'tr', 'f', 'f', 'tr', 'tr', 'f', 'tr', 'tr', 'tr',\n",
       "        'tr', 'f', 'f', 'f', 'tr', 'tr', 'tr', 'f', 'f', 'tr', 'f', 'tr',\n",
       "        'tr', 'f', 'tr', 'tr', 'tr', 'tl', 'f', 'tr', 'tr', 'f', 'f', 'f',\n",
       "        'tr', 'tr', 'f', 'tr', 'f', 'tr', 'tr', 'f', 'f', 'f', 'tr', 'tr',\n",
       "        'f', 'tr', 'tr', 'tr', 'tr', 'tr', 'f', 'tl', 'tr', 'tr', 'tr',\n",
       "        'tr', 'f', 'tr', 'tr', 'tr', 'tr', 'f', 'f', 'tr', 'f', 'f', 'tr',\n",
       "        'tl', 'f', 'tr', 'tl', 'tr', 'tr', 'tr', 'tr', 'f', 'tr', 'tr',\n",
       "        'f', 'tr', 'tr', 'tr', 'tr', 'tr', 'f', 'f', 'tr', 'f', 'tr', 'tr',\n",
       "        'tl', 'tr', 'tr', 'tr', 'tr', 'tr', 'f', 'f', 'tr', 'tr', 'tr',\n",
       "        'tr', 'tr', 'tr', 'tr', 'tr', 'tr', 'f', 'tr', 'tr', 'tr', 'tr',\n",
       "        'tr', 'tr', 'tr', 'f', 'tr', 'f', 'f', 'tr', 'tr', 'f', 'tl', 'tr',\n",
       "        'tr', 'f', 'f', 'tr', 'tr', 'f', 'tr'], dtype=object))"
      ]
     },
     "execution_count": 66,
     "metadata": {},
     "output_type": "execute_result"
    }
   ],
   "source": [
    "x, y"
   ]
  },
  {
   "cell_type": "code",
   "execution_count": 67,
   "metadata": {},
   "outputs": [],
   "source": [
    "clf = tree.DecisionTreeClassifier(max_depth=3)\n",
    "clf = clf.fit(x, y)"
   ]
  },
  {
   "cell_type": "code",
   "execution_count": 68,
   "metadata": {},
   "outputs": [],
   "source": [
    "yfit = clf.predict(x)"
   ]
  },
  {
   "cell_type": "code",
   "execution_count": 69,
   "metadata": {},
   "outputs": [
    {
     "data": {
      "text/plain": [
       "41"
      ]
     },
     "execution_count": 69,
     "metadata": {},
     "output_type": "execute_result"
    }
   ],
   "source": [
    "np.sum(yfit != y)"
   ]
  },
  {
   "cell_type": "code",
   "execution_count": 70,
   "metadata": {},
   "outputs": [
    {
     "data": {
      "text/plain": [
       "array(['b', 'f', 'tl', 'tr'], dtype=object)"
      ]
     },
     "execution_count": 70,
     "metadata": {},
     "output_type": "execute_result"
    }
   ],
   "source": [
    "np.unique(y)"
   ]
  },
  {
   "cell_type": "code",
   "execution_count": 32,
   "metadata": {},
   "outputs": [
    {
     "data": {
      "text/plain": [
       "[Text(197.83636363636364, 190.26, 'X[0] <= 0.5\\ngini = 0.49\\nsamples = 716\\nvalue = [246, 448, 20, 2]'),\n",
       " Text(121.74545454545455, 135.9, 'X[2] <= 20.32\\ngini = 0.528\\nsamples = 437\\nvalue = [246, 171, 20, 0]'),\n",
       " Text(60.872727272727275, 81.53999999999999, 'X[1] <= 0.5\\ngini = 0.069\\nsamples = 139\\nvalue = [0, 134, 5, 0]'),\n",
       " Text(30.436363636363637, 27.180000000000007, 'gini = 0.0\\nsamples = 130\\nvalue = [0, 130, 0, 0]'),\n",
       " Text(91.30909090909091, 27.180000000000007, 'gini = 0.494\\nsamples = 9\\nvalue = [0, 4, 5, 0]'),\n",
       " Text(182.61818181818182, 81.53999999999999, 'X[1] <= 0.5\\ngini = 0.301\\nsamples = 298\\nvalue = [246, 37, 15, 0]'),\n",
       " Text(152.1818181818182, 27.180000000000007, 'gini = 0.223\\nsamples = 282\\nvalue = [246, 36, 0, 0]'),\n",
       " Text(213.05454545454546, 27.180000000000007, 'gini = 0.117\\nsamples = 16\\nvalue = [0, 1, 15, 0]'),\n",
       " Text(273.92727272727274, 135.9, 'X[1] <= 0.5\\ngini = 0.014\\nsamples = 279\\nvalue = [0, 277, 0, 2]'),\n",
       " Text(243.4909090909091, 81.53999999999999, 'gini = 0.0\\nsamples = 277\\nvalue = [0, 277, 0, 0]'),\n",
       " Text(304.3636363636364, 81.53999999999999, 'gini = 0.0\\nsamples = 2\\nvalue = [0, 0, 0, 2]')]"
      ]
     },
     "execution_count": 32,
     "metadata": {},
     "output_type": "execute_result"
    },
    {
     "data": {
      "image/png": "[encoded data removed]",
      "text/plain": [
       "<Figure size 432x288 with 1 Axes>"
      ]
     },
     "metadata": {
      "needs_background": "light"
     },
     "output_type": "display_data"
    }
   ],
   "source": [
    "tree.plot_tree(clf)"
   ]
  },
  {
   "cell_type": "code",
   "execution_count": 33,
   "metadata": {},
   "outputs": [],
   "source": [
    "yfit = clf.predict(x)"
   ]
  },
  {
   "cell_type": "code",
   "execution_count": 34,
   "metadata": {},
   "outputs": [
    {
     "data": {
      "text/plain": [
       "41"
      ]
     },
     "execution_count": 34,
     "metadata": {},
     "output_type": "execute_result"
    }
   ],
   "source": [
    "np.sum(yfit != y)"
   ]
  },
  {
   "cell_type": "code",
   "execution_count": 35,
   "metadata": {},
   "outputs": [],
   "source": [
    "aa = np.array([[0, 0, 10]])"
   ]
  },
  {
   "cell_type": "code",
   "execution_count": 36,
   "metadata": {},
   "outputs": [
    {
     "data": {
      "text/plain": [
       "array([2.])"
      ]
     },
     "execution_count": 36,
     "metadata": {},
     "output_type": "execute_result"
    }
   ],
   "source": [
    "clf.predict(aa)"
   ]
  },
  {
   "cell_type": "code",
   "execution_count": 37,
   "metadata": {},
   "outputs": [
    {
     "data": {
      "text/plain": [
       "array([2.])"
      ]
     },
     "execution_count": 37,
     "metadata": {},
     "output_type": "execute_result"
    }
   ],
   "source": [
    "clf.predict(np.array([[1, 0, 20]]))"
   ]
  },
  {
   "cell_type": "code",
   "execution_count": 38,
   "metadata": {},
   "outputs": [
    {
     "data": {
      "text/plain": [
       "array([3.])"
      ]
     },
     "execution_count": 38,
     "metadata": {},
     "output_type": "execute_result"
    }
   ],
   "source": [
    "clf.predict(np.array([[False, True, 10]]))"
   ]
  },
  {
   "cell_type": "code",
   "execution_count": 39,
   "metadata": {},
   "outputs": [
    {
     "data": {
      "text/plain": [
       "array([2.])"
      ]
     },
     "execution_count": 39,
     "metadata": {},
     "output_type": "execute_result"
    }
   ],
   "source": [
    "clf.predict(np.array([[True, False, 20]]))"
   ]
  },
  {
   "cell_type": "code",
   "execution_count": 40,
   "metadata": {},
   "outputs": [
    {
     "data": {
      "text/plain": [
       "Index(['left', 'right', 'dist', 'cont'], dtype='object')"
      ]
     },
     "execution_count": 40,
     "metadata": {},
     "output_type": "execute_result"
    }
   ],
   "source": [
    "data.columns"
   ]
  },
  {
   "cell_type": "code",
   "execution_count": 52,
   "metadata": {},
   "outputs": [
    {
     "data": {
      "text/plain": [
       "'cont'"
      ]
     },
     "execution_count": 52,
     "metadata": {},
     "output_type": "execute_result"
    }
   ],
   "source": [
    "data.columns[-1]"
   ]
  },
  {
   "cell_type": "code",
   "execution_count": 71,
   "metadata": {},
   "outputs": [],
   "source": [
    "dot_data = tree.export_graphviz(clf, out_file=None, \n",
    "                     feature_names=data.columns[:-1],  \n",
    "                     class_names=np.unique(y),  \n",
    "                     filled=True, rounded=True,  \n",
    "                     special_characters=True)  "
   ]
  },
  {
   "cell_type": "code",
   "execution_count": 72,
   "metadata": {},
   "outputs": [],
   "source": [
    "graph = graphviz.Source(dot_data)"
   ]
  },
  {
   "cell_type": "code",
   "execution_count": 73,
   "metadata": {},
   "outputs": [
    {
     "data": {
      "text/plain": [
       "'test.pdf'"
      ]
     },
     "execution_count": 73,
     "metadata": {},
     "output_type": "execute_result"
    }
   ],
   "source": [
    "graph.render('test')"
   ]
  },
  {
   "cell_type": "code",
   "execution_count": 76,
   "metadata": {},
   "outputs": [],
   "source": [
    "from sklearn.tree import export_text"
   ]
  },
  {
   "cell_type": "code",
   "execution_count": 77,
   "metadata": {},
   "outputs": [],
   "source": [
    "bbb = data.columns[:-1].values"
   ]
  },
  {
   "cell_type": "code",
   "execution_count": 78,
   "metadata": {},
   "outputs": [
    {
     "data": {
      "text/plain": [
       "'right'"
      ]
     },
     "execution_count": 78,
     "metadata": {},
     "output_type": "execute_result"
    }
   ],
   "source": [
    "bbb[1]"
   ]
  },
  {
   "cell_type": "code",
   "execution_count": 79,
   "metadata": {},
   "outputs": [
    {
     "data": {
      "text/plain": [
       "DecisionTreeClassifier(max_depth=3)"
      ]
     },
     "execution_count": 79,
     "metadata": {},
     "output_type": "execute_result"
    }
   ],
   "source": [
    "clf"
   ]
  },
  {
   "cell_type": "code",
   "execution_count": 80,
   "metadata": {},
   "outputs": [],
   "source": [
    "from sklearn.datasets import load_iris"
   ]
  },
  {
   "cell_type": "code",
   "execution_count": 81,
   "metadata": {},
   "outputs": [],
   "source": [
    "iris = load_iris()"
   ]
  },
  {
   "cell_type": "code",
   "execution_count": 82,
   "metadata": {},
   "outputs": [
    {
     "data": {
      "text/plain": [
       "['sepal length (cm)',\n",
       " 'sepal width (cm)',\n",
       " 'petal length (cm)',\n",
       " 'petal width (cm)']"
      ]
     },
     "execution_count": 82,
     "metadata": {},
     "output_type": "execute_result"
    }
   ],
   "source": [
    "iris['feature_names']"
   ]
  },
  {
   "cell_type": "code",
   "execution_count": 83,
   "metadata": {},
   "outputs": [
    {
     "data": {
      "text/plain": [
       "array(['setosa', 'versicolor', 'virginica'], dtype='<U10')"
      ]
     },
     "execution_count": 83,
     "metadata": {},
     "output_type": "execute_result"
    }
   ],
   "source": [
    "iris.target_names"
   ]
  },
  {
   "cell_type": "code",
   "execution_count": 84,
   "metadata": {},
   "outputs": [],
   "source": [
    "r = export_text(clf, feature_names=list(bbb))"
   ]
  },
  {
   "cell_type": "code",
   "execution_count": 85,
   "metadata": {},
   "outputs": [
    {
     "data": {
      "text/plain": [
       "'|--- left <= 0.50\\n|   |--- dist <= 20.32\\n|   |   |--- right <= 0.50\\n|   |   |   |--- class: tr\\n|   |   |--- right >  0.50\\n|   |   |   |--- class: tl\\n|   |--- dist >  20.32\\n|   |   |--- right <= 0.50\\n|   |   |   |--- class: f\\n|   |   |--- right >  0.50\\n|   |   |   |--- class: tl\\n|--- left >  0.50\\n|   |--- right <= 0.50\\n|   |   |--- class: tr\\n|   |--- right >  0.50\\n|   |   |--- class: b\\n'"
      ]
     },
     "execution_count": 85,
     "metadata": {},
     "output_type": "execute_result"
    }
   ],
   "source": [
    "r"
   ]
  },
  {
   "cell_type": "code",
   "execution_count": null,
   "metadata": {},
   "outputs": [],
   "source": []
  }
 ],
 "metadata": {
  "kernelspec": {
   "display_name": "datascience",
   "language": "python",
   "name": "ds"
  },
  "language_info": {
   "codemirror_mode": {
    "name": "ipython",
    "version": 3
   },
   "file_extension": ".py",
   "mimetype": "text/x-python",
   "name": "python",
   "nbconvert_exporter": "python",
   "pygments_lexer": "ipython3",
   "version": "3.7.7"
  }
 },
 "nbformat": 4,
 "nbformat_minor": 4
}

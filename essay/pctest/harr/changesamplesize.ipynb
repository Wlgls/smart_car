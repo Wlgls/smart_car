{
 "cells": [
  {
   "cell_type": "code",
   "execution_count": 23,
   "metadata": {},
   "outputs": [],
   "source": [
    "import cv2"
   ]
  },
  {
   "cell_type": "code",
   "execution_count": 24,
   "metadata": {},
   "outputs": [],
   "source": [
    "from pathlib import Path"
   ]
  },
  {
   "cell_type": "code",
   "execution_count": 3,
   "metadata": {},
   "outputs": [],
   "source": [
    "p = Path('img')"
   ]
  },
  {
   "cell_type": "code",
   "execution_count": 17,
   "metadata": {},
   "outputs": [
    {
     "name": "stdout",
     "output_type": "stream",
     "text": [
      "img/img0.jpg\n",
      "<class 'str'>\n"
     ]
    }
   ],
   "source": [
    "cc = 'img/img0.jpg'\n",
    "print(cc)\n",
    "print(type(cc))"
   ]
  },
  {
   "cell_type": "code",
   "execution_count": 20,
   "metadata": {},
   "outputs": [],
   "source": [
    "imgs_child = (child for child in p.iterdir() if child.is_file())\n",
    "for img in imgs_child:\n",
    "    img = str(img)\n",
    "    aaa = cv2.imread(img)\n",
    "    bbb = cv2.resize(aaa, dsize=(1280, 720))\n",
    "    cv2.imwrite(img, bbb)"
   ]
  },
  {
   "cell_type": "code",
   "execution_count": 21,
   "metadata": {},
   "outputs": [],
   "source": [
    "p2 = Path('tnn')"
   ]
  },
  {
   "cell_type": "code",
   "execution_count": 27,
   "metadata": {},
   "outputs": [],
   "source": [
    "tennis_child = (child for child in p2.iterdir() if child.is_file())\n",
    "for tennis in tennis_child:\n",
    "    tennis = str(tennis)\n",
    "    aa = cv2.imread(tennis)\n",
    "    bb = cv2.resize(aa, dsize=(30, 30))\n",
    "    cv2.imwrite(tennis, bb)"
   ]
  },
  {
   "cell_type": "code",
   "execution_count": null,
   "metadata": {},
   "outputs": [],
   "source": []
  }
 ],
 "metadata": {
  "kernelspec": {
   "display_name": "datascience",
   "language": "python",
   "name": "ds"
  },
  "language_info": {
   "codemirror_mode": {
    "name": "ipython",
    "version": 3
   },
   "file_extension": ".py",
   "mimetype": "text/x-python",
   "name": "python",
   "nbconvert_exporter": "python",
   "pygments_lexer": "ipython3",
   "version": "3.7.7"
  }
 },
 "nbformat": 4,
 "nbformat_minor": 4
}
